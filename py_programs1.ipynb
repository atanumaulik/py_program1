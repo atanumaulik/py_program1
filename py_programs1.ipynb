{
  "cells": [
    {
      "cell_type": "code",
      "execution_count": null,
      "metadata": {
        "id": "RijskQBqS1s0",
        "outputId": "c1bd60c6-997d-409b-9de9-63f42209536a"
      },
      "outputs": [
        {
          "name": "stdout",
          "output_type": "stream",
          "text": [
            "Enter an integer: 100\n",
            "5050\n"
          ]
        }
      ],
      "source": [
        "# Sum of sequence upto n\n",
        "n=int(input(\"Enter an integer: \"))\n",
        "i=0\n",
        "for n in range (1,n+1):\n",
        "    i+=n\n",
        "print (i)"
      ]
    },
    {
      "cell_type": "code",
      "execution_count": 1,
      "metadata": {
        "colab": {
          "base_uri": "https://localhost:8080/"
        },
        "id": "W9B-yvJGS1s1",
        "outputId": "4df16431-48a8-4cb4-9218-91e7c5e21462"
      },
      "outputs": [
        {
          "output_type": "stream",
          "name": "stdout",
          "text": [
            "Enter a string: Hi how are you ?\n",
            "Uppercase: 1, Lowercase: 10\n"
          ]
        }
      ],
      "source": [
        "# A program to count upper and lowercase numbers in a string\n",
        "import string\n",
        "s=input(\"Enter a string: \").strip()\n",
        "u=0\n",
        "l=0\n",
        "for letter in s:\n",
        "    if letter == \" \":\n",
        "        pass # Not counting spaces\n",
        "    elif letter in (string.punctuation or string.whitespace): # not counting punctuations or whitespaces\n",
        "        pass\n",
        "    elif letter.isupper():\n",
        "        u+=1\n",
        "    else:\n",
        "        l+=1\n",
        "print(\"Uppercase: {}, Lowercase: {}\".format(u,l))"
      ]
    },
    {
      "cell_type": "code",
      "execution_count": 2,
      "metadata": {
        "colab": {
          "base_uri": "https://localhost:8080/"
        },
        "id": "Nn_XGV2VS1s2",
        "outputId": "d3b3af42-7f08-4a71-b0ea-27b29572ab88"
      },
      "outputs": [
        {
          "output_type": "stream",
          "name": "stdout",
          "text": [
            "Enter an integer : 32\n",
            "List of factors: [1, 2, 4, 8, 16, 32]\n"
          ]
        }
      ],
      "source": [
        "#Find the factors of an integer\n",
        "n=int(input(\"Enter an integer : \"))\n",
        "l=[]\n",
        "for i in range (1,n+1):\n",
        "    if n%i==0:\n",
        "        l.append(i)\n",
        "print(\"List of factors: {}\".format(l))"
      ]
    },
    {
      "cell_type": "code",
      "execution_count": 3,
      "metadata": {
        "colab": {
          "base_uri": "https://localhost:8080/"
        },
        "id": "roTOFQ4jS1s3",
        "outputId": "e1799535-d10f-4d4e-ac32-4c0562c56e58"
      },
      "outputs": [
        {
          "output_type": "stream",
          "name": "stdout",
          "text": [
            "Enter a number: 370\n",
            "Armstrong Number\n"
          ]
        }
      ],
      "source": [
        "#Program to check whether a number is Armstrong i.e. equal to the sum of cubes of its digits\n",
        "import math\n",
        "pow3=0\n",
        "s=input(\"Enter a number: \")\n",
        "n=int(s)\n",
        "for i in s:\n",
        "    pow3+=pow(int(i),3)\n",
        "if pow3==n:\n",
        "    print(\"Armstrong Number\")\n",
        "else:\n",
        "    print(\"Not Armstrong Number\")"
      ]
    },
    {
      "cell_type": "code",
      "execution_count": 20,
      "metadata": {
        "colab": {
          "base_uri": "https://localhost:8080/"
        },
        "id": "RfBiRzAhS1s3",
        "outputId": "0f041ed0-717a-463f-bcf7-c82390b51a71"
      },
      "outputs": [
        {
          "output_type": "stream",
          "name": "stdout",
          "text": [
            "Enter an integer: -444\n",
            "Sum of digits : 12\n",
            "Time taken :  0.091 s\n"
          ]
        }
      ],
      "source": [
        "# Sum of the digits of an integer\n",
        "import time\n",
        "t0=time.process_time()\n",
        "s=input(\"Enter an integer: \") # entered as a string\n",
        "n=abs(int(s))# typecasting into +ve integer\n",
        "k=len(s)\n",
        "L=[] # starting a list to collect digits\n",
        "tot=0\n",
        "for k in range(0,k):\n",
        "    d=n//10**k%10 #Picking up digits one by one\n",
        "    L.append(d)\n",
        "p=len(L)\n",
        "for i in range (0,p):\n",
        "    tot+=L[i]\n",
        "print(\"Sum of digits : {}\".format(tot))\n",
        "t1=time.process_time()-t0\n",
        "print(\"Time taken : {0: .3f} s\".format(t1))"
      ]
    },
    {
      "cell_type": "code",
      "source": [
        "# Sum of digits of a number\n",
        "import time\n",
        "t0=time.process_time()\n",
        "s=input(\"Enter a number: \").lstrip(\"-\").replace(\".\", \"\")\n",
        "sdigit=0\n",
        "for i in s:\n",
        "  i=int(i)\n",
        "  sdigit+=i\n",
        "print(\"The sum of digits is : {}\".format(sdigit))\n",
        "t1=time.process_time()-t0\n",
        "print(\"Time taken ; {0: .3f} s\".format(t1))"
      ],
      "metadata": {
        "colab": {
          "base_uri": "https://localhost:8080/"
        },
        "id": "IioJNRN6h6IN",
        "outputId": "5046e076-93f5-4024-d59c-c68874b75176"
      },
      "execution_count": 30,
      "outputs": [
        {
          "output_type": "stream",
          "name": "stdout",
          "text": [
            "Enter a number: -444\n",
            "The sum of digits is : 12\n",
            "Time taken ;  0.113 s\n"
          ]
        }
      ]
    },
    {
      "cell_type": "code",
      "execution_count": 23,
      "metadata": {
        "colab": {
          "base_uri": "https://localhost:8080/"
        },
        "id": "ZnihjrDmS1s3",
        "outputId": "fa934460-a3f1-45f9-c252-5f4691c935f7"
      },
      "outputs": [
        {
          "output_type": "stream",
          "name": "stdout",
          "text": [
            "Enter the number of trials : 100000\n",
            "one std: 68.23, two std: 95.48, three std:99.73\n",
            "Process time: 3.360e-01s\n"
          ]
        }
      ],
      "source": [
        "# Random number generated following a Gaussian disribution\n",
        "import time\n",
        "import random\n",
        "t0=time.process_time()\n",
        "n=int(input(\"Enter the number of trials : \"))\n",
        "onestd=0\n",
        "twostd=0\n",
        "threestd=0\n",
        "for i in range(1,n+1):\n",
        "    g=random.gauss(0,1) # Random number generator following Gaussian distribution\n",
        "    if g >= -1.0 and g <=1.0:\n",
        "        onestd+=1\n",
        "    elif (g >= -2.0 and g <=2.0):\n",
        "        twostd+=1\n",
        "    elif(g >= -3.0 and g <=3.0):\n",
        "        threestd+=1\n",
        "\n",
        "onestdper=(onestd/n)*100\n",
        "twostdper=((onestd+twostd)/n)*100\n",
        "threestdper=((onestd+twostd+threestd)/n)*100\n",
        "t1=time.process_time()-t0\n",
        "print(\"one std: {:.2f}, two std: {:.2f}, three std:{:.2f}\".format(onestdper,twostdper, threestdper))\n",
        "print('Process time: {:.3e}s'.format (t1))"
      ]
    },
    {
      "cell_type": "code",
      "execution_count": 7,
      "metadata": {
        "colab": {
          "base_uri": "https://localhost:8080/"
        },
        "id": "TohLQ_l4S1s4",
        "outputId": "45ae81d4-4128-4791-fe01-ed8a1ff90499"
      },
      "outputs": [
        {
          "output_type": "stream",
          "name": "stdout",
          "text": [
            "Enter the number of terms of Fibonacci sequence to be generated: 12\n",
            "0 1 1 2 3 5 8 13 21 34 55 89 \n",
            "The sum of the Fibonacci sequence: 232\n"
          ]
        }
      ],
      "source": [
        "#Program to generate n terms of a Fibonacci sequence and their sum\n",
        "n0=0\n",
        "n1=1\n",
        "l=[0,1]\n",
        "n=int(input(\"Enter the number of terms of Fibonacci sequence to be generated: \"))\n",
        "\n",
        "for i in range(1,n-1):\n",
        "    n2=n0+n1\n",
        "    l.append(n2)\n",
        "    n0,n1=n1,n2\n",
        "for k in l:\n",
        "    print(k, end=\" \")\n",
        "total_fibo=sum(l)\n",
        "print(\"\\nThe sum of the Fibonacci sequence: {}\".format(total_fibo))"
      ]
    },
    {
      "cell_type": "code",
      "execution_count": 6,
      "metadata": {
        "colab": {
          "base_uri": "https://localhost:8080/"
        },
        "id": "vrEqWJeFS1s4",
        "outputId": "d46cc7d0-d568-4d55-aef2-4d44ccd7d6aa"
      },
      "outputs": [
        {
          "output_type": "stream",
          "name": "stdout",
          "text": [
            "Enter a positive integer to check for Prime/Not Prime : 53\n",
            "No 53 is Prime\n",
            "Factors: [1, 53]\n"
          ]
        }
      ],
      "source": [
        "#Check whether a number is Prime/Not Prime and display factors\n",
        "\n",
        "n=int(input(\"Enter a positive integer to check for Prime/Not Prime : \"))\n",
        "l=[]\n",
        "\n",
        "for i in range (1,n+1):\n",
        "    if n%i==0:\n",
        "        l.append(i)\n",
        "\n",
        "if len(l)==2:\n",
        "    print(\"No {} is Prime\".format(n))\n",
        "    print(\"Factors: {}\".format(l))\n",
        "\n",
        "else:\n",
        "\n",
        "    print(\"Number {} is Not Prime\".format(n))\n",
        "    print(\"Factors: {}\".format(l))"
      ]
    },
    {
      "cell_type": "code",
      "execution_count": 9,
      "metadata": {
        "colab": {
          "base_uri": "https://localhost:8080/"
        },
        "id": "AaOvflFIS1s5",
        "outputId": "13d490d8-a93b-4b5f-a4c4-00306012e4af"
      },
      "outputs": [
        {
          "output_type": "stream",
          "name": "stdout",
          "text": [
            "Enter a number greater than 2 to get a list of Primes below that no. : 100\n",
            " Number of primes below number 100 is 25.\n",
            " List : [2, 3, 5, 7, 11, 13, 17, 19, 23, 29, 31, 37, 41, 43, 47, 53, 59, 61, 67, 71, 73, 79, 83, 89, 97]\n"
          ]
        }
      ],
      "source": [
        "#Finding the number of primes below a certain number\n",
        "\n",
        "k=int(input(\"Enter a number greater than 2 to get a list of Primes below that no. : \"))\n",
        "j=3 #start counting from 3 as 1 is neither prime not prime, 2 is prime\n",
        "l=[] # List to collect the number of factors below a mumber n\n",
        "lp=[2] # List of primes\n",
        "\n",
        "while j < k:\n",
        "\n",
        "    for i in range (1,j+1):\n",
        "        if j%i==0:\n",
        "            l.append(i) # Collecting the number of factors in a list l\n",
        "\n",
        "    if len(l)==2:\n",
        "        lp.append(i)\n",
        "        l=[] # Resetting the list of factors to zero\n",
        "\n",
        "    else:\n",
        "        l=[]\n",
        "\n",
        "    j+=1\n",
        "\n",
        "print(\" Number of primes below number {} is {}.\\n List : {}\".format (k,len(lp),lp))"
      ]
    },
    {
      "cell_type": "code",
      "execution_count": null,
      "metadata": {
        "id": "RV-61nIxS1s5",
        "outputId": "5998d240-671c-408f-bf44-451db79a7334"
      },
      "outputs": [
        {
          "name": "stdout",
          "output_type": "stream",
          "text": [
            "Enter the mean number of events (m) : 2.5\n",
            "Enter the number of events (k) : 2\n",
            "P = 2.565e-01\n"
          ]
        }
      ],
      "source": [
        "# Calculation of Poisson p.m.f\n",
        "import math\n",
        "m=float(input(\"Enter the mean number of events (m) : \"))\n",
        "k=int(input(\"Enter the number of events (k) : \"))\n",
        "\n",
        "p=pow(m,k)*pow(math.e,-m)/math.factorial(k)\n",
        "print (\"P = {:.3e}\".format(p))"
      ]
    },
    {
      "cell_type": "code",
      "execution_count": null,
      "metadata": {
        "id": "OLV45OejS1s6",
        "outputId": "32888703-894e-4ed4-b650-978060d9db0a"
      },
      "outputs": [
        {
          "name": "stdout",
          "output_type": "stream",
          "text": [
            "Enter a string : Don't nod.\n",
            "Palindrome\n"
          ]
        }
      ],
      "source": [
        "#Program to check whether a string is a palindrome\n",
        "\n",
        "import string #import string module\n",
        "p=input(\"Enter a string : \").rstrip().rstrip(string.punctuation).lower() # Stripping any punctuation on right\n",
        "\n",
        "for letter in p:\n",
        "    if letter in string.punctuation: # Checking for punctuations and replacing them with spaces\n",
        "        p=p.replace(letter,' ')\n",
        "\n",
        "# Splitting a string along spaces and stitching it back with one without spaces\n",
        "lst=p.split(' ')\n",
        "str1=''\n",
        "for j in range(0,len(lst)):\n",
        "    str1+=lst[j]\n",
        "\n",
        "c=0 # Matching letters from start and end\n",
        "for i in range(0,len(str1)):\n",
        "    if str1[i]==str1[-i-1]:\n",
        "        c+=1\n",
        "\n",
        "if c==len(str1):\n",
        "    print(\"Palindrome\")\n",
        "else:\n",
        "    print(\"Not palindrome\")"
      ]
    },
    {
      "cell_type": "code",
      "source": [],
      "metadata": {
        "id": "UFizqBFcpDOn"
      },
      "execution_count": null,
      "outputs": []
    },
    {
      "cell_type": "code",
      "execution_count": null,
      "metadata": {
        "id": "j9jqsaQyS1s6",
        "outputId": "a21a856b-3a5b-48de-855e-84102220e0f7"
      },
      "outputs": [
        {
          "name": "stdout",
          "output_type": "stream",
          "text": [
            "Enter a number to count unique digits : 3889965553\n",
            " Length of string : 10\n",
            " The element 3 occurs 2 times\n",
            " The element 8 occurs 2 times\n",
            " The element 9 occurs 2 times\n",
            " The element 6 occurs 1 times\n",
            " The element 5 occurs 3 times\n",
            " Number of unique digits : 5\n"
          ]
        }
      ],
      "source": [
        "#Program to count the number of unique digits of a number\n",
        "\n",
        "s=list(input(\"Enter a number to count unique digits : \" )) # Type casting input into list\n",
        "print(\" Length of string : {}\".format(len(s)))\n",
        "unique=[] # Starting a list of unique elements\n",
        "\n",
        "for element in s: # looping through elements\n",
        "    if element not in unique: # checking whether unique\n",
        "        print(\" The element {} occurs {} times\".format(element,s.count(element)))\n",
        "        unique.append(element) # Adding to the list of unique elements\n",
        "\n",
        "print(\" Number of unique digits : {}\".format(len(unique)))"
      ]
    },
    {
      "cell_type": "code",
      "execution_count": null,
      "metadata": {
        "id": "UzbsNawrS1s6"
      },
      "outputs": [],
      "source": [
        "#Function to print the duplicates in a list\n",
        "def duplicate(mylst):\n",
        "    d=[]\n",
        "    for i in mylst:\n",
        "        x=mylst.count(i)\n",
        "        if x>1 and i not in d:\n",
        "            d.append(i)\n",
        "    print(\"List of duplicates {}\".format(d))"
      ]
    },
    {
      "cell_type": "code",
      "execution_count": null,
      "metadata": {
        "id": "wUEmGZmjS1s7"
      },
      "outputs": [],
      "source": [
        "mylst=[1,3,3,'3','3',5,'a','e','a']"
      ]
    },
    {
      "cell_type": "code",
      "execution_count": null,
      "metadata": {
        "id": "QHNK6herS1s7",
        "outputId": "ace9f906-8a58-4882-e17f-d05fcc06f29e"
      },
      "outputs": [
        {
          "name": "stdout",
          "output_type": "stream",
          "text": [
            "List of duplicates [3, '3', 'a']\n"
          ]
        }
      ],
      "source": [
        "duplicate(mylst)"
      ]
    },
    {
      "cell_type": "code",
      "execution_count": null,
      "metadata": {
        "id": "VlRqwFW_S1s7",
        "outputId": "84c1b834-7336-4ffc-8dd8-71472b2a1bb0"
      },
      "outputs": [
        {
          "name": "stdout",
          "output_type": "stream",
          "text": [
            "Enter a number to generate multiplication tables upto that number : 1\n",
            "Enter the number of multiplication rows you want for each table : 1\n",
            "1 x 1 = 1\n"
          ]
        }
      ],
      "source": [
        "#Generating multiplication tables (use of tuple unpacking)\n",
        "n=int(input(\"Enter a number to generate multiplication tables upto that number : \" ))\n",
        "m=int(input(\"Enter the number of multiplication rows you want for each table : \"))\n",
        "table = [(x,y,x*y) for x in range(1,n+1) for y in range(1,m+1)] # List comprehension\n",
        "for a,b,c in table: #Tuple unpacking\n",
        "    print(\"{} x {} = {}\".format(a,b,c))"
      ]
    },
    {
      "cell_type": "code",
      "execution_count": null,
      "metadata": {
        "id": "2i4cXGCOS1s7"
      },
      "outputs": [],
      "source": [
        "#Program to find the number of primes between any two numbers\n",
        "\n",
        "def prime(num): # Function checks for prime and returns the number if prime\n",
        "    factors=[]\n",
        "    for n in range(1,num+1):\n",
        "        if num==0:\n",
        "            pass\n",
        "        elif num==1:\n",
        "            pass\n",
        "        elif num==2:\n",
        "            return num\n",
        "        if num%n==0:\n",
        "            factors.append(n)\n",
        "    if len(factors)==2:\n",
        "        return num\n",
        "\n",
        "def no_of_primes(): #Function which passes a range of numbers through the prime function to filter for primes\n",
        "\n",
        "    print(\"Program to find the number of primes between any two numbers\")\n",
        "    p=int(input (\"Enter the lower bound of the range : \"))\n",
        "    q=int(input(\"Enter the upper bound of the range : \"))\n",
        "    numbers=[n for n in range(p,q+1)]\n",
        "    primes=len(list(filter(prime,numbers)))\n",
        "    return \"The number of primes in the range {} - {} is {}\".format(p,q,primes)"
      ]
    },
    {
      "cell_type": "code",
      "execution_count": null,
      "metadata": {
        "id": "u0lxU8_oS1s7",
        "outputId": "ff8acb18-7be2-45a5-9b32-60d05657fce0"
      },
      "outputs": [
        {
          "name": "stdout",
          "output_type": "stream",
          "text": [
            "Program to find the number of primes between any two numbers\n",
            "Enter the lower bound of the range : 1\n",
            "Enter the upper bound of the range : 1000\n"
          ]
        },
        {
          "data": {
            "text/plain": [
              "'The number of primes in the range 1 - 1000 is 168'"
            ]
          },
          "execution_count": 2,
          "metadata": {},
          "output_type": "execute_result"
        }
      ],
      "source": [
        "no_of_primes()"
      ]
    },
    {
      "cell_type": "code",
      "execution_count": null,
      "metadata": {
        "id": "CLJm1Z8pS1s7",
        "outputId": "036213e6-a102-49fc-a22b-16e55d0a91e7"
      },
      "outputs": [
        {
          "name": "stdout",
          "output_type": "stream",
          "text": [
            "A program to find the Least Common Multiplier(L.C.M) of integers\n",
            "Enter the numbers seperated by a comma : 10,45,9\n",
            "The least common multiplier of numbers : ['10', '45', '9'] is : 90\n"
          ]
        }
      ],
      "source": [
        "#A program to find the Least Common Multiplier\n",
        "\n",
        "# Code black to collect entered numbers and generate a list of those numbers\n",
        "numlist=[]\n",
        "print(\"A program to find the Least Common Multiplier(L.C.M) of integers\")\n",
        "nums=(input(\"Enter the numbers seperated by a comma : \")).strip().rstrip(',')\n",
        "nums=nums.split(',')\n",
        "for i in nums:\n",
        "    integer=int(i)\n",
        "    numlist.append(integer)\n",
        "numlist.sort(reverse=True) # Reverse sorting the list so that the highest entered number comes first\n",
        "\n",
        "# Code block to check for the Lowest Common Multiple (L.C.M.)\n",
        "# Whether the highest number is divisible by others, if not, multiply the highest number and cheak again\n",
        "n=1\n",
        "p=True\n",
        "while p: # While loop increases n until a LCM is found\n",
        "    divlist=[] # List to collect the divisors\n",
        "    for i in range(0,len(numlist)): #for loop iterates through numbers on the list\n",
        "        if (numlist[0]*n)%numlist[i]==0:\n",
        "            divlist.append(numlist[i])\n",
        "    if len(numlist)==len(divlist):\n",
        "        print(\"The least common multiplier of numbers : {} is : {}\".format(nums,numlist[0]*n))\n",
        "        p=False\n",
        "    else:\n",
        "        n+=1"
      ]
    },
    {
      "cell_type": "code",
      "execution_count": null,
      "metadata": {
        "id": "yVhgwfflS1s8"
      },
      "outputs": [],
      "source": [
        "#A program to find the Least Common Multiplier using function lcm\n",
        "\n",
        "def lcm(*args):\n",
        "    numlist=[]\n",
        "    for num in args:\n",
        "        numlist.append(num)\n",
        "    numlist.sort(reverse=True)\n",
        "\n",
        "    n=1\n",
        "    p=True\n",
        "    while p:\n",
        "        divlist=[]\n",
        "        for i in range(0,len(numlist)):\n",
        "            if (numlist[0]*n)%numlist[i]==0:\n",
        "                 divlist.append(numlist[i])\n",
        "        if len(numlist)==len(divlist):\n",
        "            print(\"The least common multiplier of numbers : {} is : {}\".format(numlist,numlist[0]*n))\n",
        "            p=False\n",
        "        else:\n",
        "            n+=1"
      ]
    },
    {
      "cell_type": "code",
      "execution_count": null,
      "metadata": {
        "id": "z4bB9aQoS1s8",
        "outputId": "d4b6517b-44ab-4db2-9097-862e2e6d8bc6"
      },
      "outputs": [
        {
          "name": "stdout",
          "output_type": "stream",
          "text": [
            "The least common multiplier of numbers : [35, 10, 5] is : 70\n"
          ]
        }
      ],
      "source": [
        "lcm(5,35,10)"
      ]
    },
    {
      "cell_type": "code",
      "execution_count": null,
      "metadata": {
        "id": "BkxVGa4IS1s8"
      },
      "outputs": [],
      "source": [
        "# A program to find the highest commong factor (H.C.F) of numbers\n",
        "\n",
        "def hcf(*args): # Taking a set of numbers and preparing a list\n",
        "    numlist=[]\n",
        "    for num in args:\n",
        "        numlist.append(num)\n",
        "\n",
        "\n",
        "    faclist=list(map(factors,numlist)) # Generating of the list of list of factors of numbers using map\n",
        "    listset=list(map(set,faclist))  # converting the list of lists into list of sets of\n",
        "    intersection=set.intersection(*listset)# Performing the intersection of multiple sets to find common factors\n",
        "    comfact=list(intersection) #Typcasting the set of common factors into a list\n",
        "    hcf=max(comfact) # Finding the highest commong factor\n",
        "\n",
        "    print(\" The highest common factor (H.C.F) of numbers {} is {}\". format(numlist,hcf))\n",
        "\n",
        "# A function to return a list of factors of a number\n",
        "def factors(num):\n",
        "    fac=[]\n",
        "    for i in range (1,num+1):\n",
        "        if num%i==0:\n",
        "            fac.append(i)\n",
        "    return fac"
      ]
    },
    {
      "cell_type": "code",
      "execution_count": null,
      "metadata": {
        "id": "d0ceykSxS1s8",
        "outputId": "4ebce66f-4e3a-4e6d-c717-10386a8cf35c"
      },
      "outputs": [
        {
          "name": "stdout",
          "output_type": "stream",
          "text": [
            " The highest common factor (H.C.F) of numbers [48, 24, 60] is 12\n"
          ]
        }
      ],
      "source": [
        "hcf(48,24,60)"
      ]
    },
    {
      "cell_type": "code",
      "execution_count": null,
      "metadata": {
        "id": "wZ3vRqAVS1s8"
      },
      "outputs": [],
      "source": [
        "# H.C.F of numbers wihout using set (may not work in some cases)\n",
        "\n",
        "def hcf(*args):\n",
        "    numlist=[]\n",
        "    for num in args:\n",
        "        numlist.append(num)\n",
        "\n",
        "    comfact=[]\n",
        "    faclist=list(map(factors,numlist)) #Generating the list of list of factors using map function\n",
        "    faclist.sort(key=len) # Sorting the list of list of factors according to length\n",
        "    print(faclist)\n",
        "\n",
        "    for i in range(1,len(faclist)): #Looping through the list of factor's list\n",
        "        for n in faclist[0]: #Looping through factors of the first element i.e. for the smallest set of factors\n",
        "            if n in faclist[i]: # Checking whether those numbers appear in other list\n",
        "                comfact.append(n) # Adding to the list of common factors\n",
        "    hcf=max(comfact)\n",
        "    print(\" The highest common factor (H.C.F) of numbers {} is {}\". format(numlist,hcf))\n",
        "\n",
        "def factors(num):\n",
        "    fac=[]\n",
        "    for i in range (1,num+1):\n",
        "        if num%i==0:\n",
        "            fac.append(i)\n",
        "    return fac"
      ]
    },
    {
      "cell_type": "code",
      "execution_count": null,
      "metadata": {
        "id": "yeEZt0EGS1s8",
        "outputId": "68e4b9b9-07de-4969-cc71-2dabd18f2fb8"
      },
      "outputs": [
        {
          "name": "stdout",
          "output_type": "stream",
          "text": [
            " The highest common factor (H.C.F) of numbers [60, 6, 260] is 2\n"
          ]
        }
      ],
      "source": [
        "hcf(60,6,260)"
      ]
    },
    {
      "cell_type": "code",
      "execution_count": null,
      "metadata": {
        "id": "-abZnq-uS1s9"
      },
      "outputs": [],
      "source": [
        "#Function to check for pangram, i.e. every letter in the alphabet\n",
        "import string\n",
        "def pangram(s):\n",
        "    alpha=[]\n",
        "    for letter in s:\n",
        "        if letter.lower() in string.ascii_lowercase:\n",
        "            if letter.lower() not in alpha:\n",
        "                alpha.append(letter.lower())\n",
        "    return len(alpha)==26"
      ]
    },
    {
      "cell_type": "code",
      "execution_count": null,
      "metadata": {
        "id": "A-bvxCj1S1s9",
        "outputId": "5d80a271-f84b-4326-f8e2-5d80ac6c22f4"
      },
      "outputs": [
        {
          "data": {
            "text/plain": [
              "True"
            ]
          },
          "execution_count": 61,
          "metadata": {},
          "output_type": "execute_result"
        }
      ],
      "source": [
        "pangram(\"The quick brown fox jumps over the lazy dog\")"
      ]
    },
    {
      "cell_type": "code",
      "execution_count": null,
      "metadata": {
        "id": "vNy_uzCTS1s9"
      },
      "outputs": [],
      "source": []
    }
  ],
  "metadata": {
    "kernelspec": {
      "display_name": "Python 3",
      "language": "python",
      "name": "python3"
    },
    "language_info": {
      "codemirror_mode": {
        "name": "ipython",
        "version": 3
      },
      "file_extension": ".py",
      "mimetype": "text/x-python",
      "name": "python",
      "nbconvert_exporter": "python",
      "pygments_lexer": "ipython3",
      "version": "3.7.1"
    },
    "colab": {
      "provenance": []
    }
  },
  "nbformat": 4,
  "nbformat_minor": 0
}